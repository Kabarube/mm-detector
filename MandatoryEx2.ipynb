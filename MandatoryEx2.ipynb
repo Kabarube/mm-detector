{
 "cells": [
  {
   "cell_type": "markdown",
   "id": "574623e7",
   "metadata": {},
   "source": [
    "### 1. **Initial Observation**\n",
    "*Begin by taking an initial observation of the provided image. Note down any distinguishable features or differences between the two types of chocolates that may aid in the identification process.*\n",
    "\n",
    "<img src=\"images/IMG_2754_nonstop_alltogether.JPG\" width=\"800\"/>\n",
    "\n",
    "<h4 style=\"marghin-bottom: 0.25em\">Observations</h4>\n",
    "The chocalates cast different shadows and has different highlights depending on the geometry. Nonstop has a rounder shape, while M&M's are more inconsistent"
   ]
  },
  {
   "cell_type": "markdown",
   "id": "fe4e003d",
   "metadata": {},
   "source": [
    "### 2. Pre-processing\n",
    "*Describe any pre-processing steps you take, such as resizing, grayscale conversion, noise reduction, etc. Include before and after images to highlight the changes.*"
   ]
  },
  {
   "cell_type": "markdown",
   "id": "73435681",
   "metadata": {},
   "source": [
    "### 3. Feature Extraction\n",
    "*Clearly outline the features you intend to extract from the image to distinguish between Non-Stops and M&Ms. This could include color, shape, size, texture, etc.*"
   ]
  },
  {
   "cell_type": "markdown",
   "id": "fbdffaa8",
   "metadata": {},
   "source": [
    "### 4. **Algorithm & Methodology**\n",
    "*Describe in detail the algorithm or methodology you choose to use. Explain the reason for your choice and any tweaks or modifications made to the algorithm.*\n",
    "1. We convert the image to grayscale, as the Sobel Operator can only detect edges in BW images\n",
    "2. We find the edges using the Sobel Operator algorithm\n",
    "3. The sobel operator is the input for the Canny Edge Detector algorithm\n",
    "\n",
    "<h4 style=\"margin-bottom: 0.25em\";>The Sobel Operator</h4>\n",
    "The operator uses two separate 3x3 kernels. one with -1 along the first column, zeros in the second and 1 in the last column. The second kernel has the same numbers but the columns are now changed to rows. If we look at this closer, the first kernel will detect vertical edges, while the second kernel will detect the horizontal edges.\n",
    "\n",
    "\n",
    "<h4 style=\"margin-bottom: 0.25em\";>The Canny Operator</h4>\n",
    "This operator\n",
    "\n",
    "<h4 style=\"margin-bottom: 0.25em\";>Unsharpen Mask (USM)</h4>\n",
    "\n",
    "- Increase sharpness using edge detections\n",
    "- Popular within astronomy, digital printing, web publications\n",
    "\n",
    "- Usm was used in classical photography where sharp photos were constructed from a combination of the original photo and a smoothed (unsharp) photo\n",
    "\n",
    "We create a mask by subtracting a blurred version of the image from the original image (I) [M <- I-(I*H) = I-Î]\n",
    "To obtain the sharpened image, the mask is added to the original image, weighted by a factor, which controls the amount of sharpening\n",
    "\n",
    "\n",
    "<h2 style=\"margin-bottom: 0.25em\";>Technical Methodology</h2>\n",
    "\n",
    "1. Perform an **otsu thresholding** (*Unsharp Mask could be performed before the thresholding to make objects more distinguishable*)\n",
    "2. convert the image to **binary** using this threshold\n",
    "3. Perform **Opening** to **Remove small noise**, **Smooth object boundaries**, **Remove brightspots**\n",
    "4. Perform **Closing** to **Fill small holes or gaps in objects**, **Smooths contours**, **Connects small breaks in the object**\n",
    "5. **Watershedding**\n"
   ]
  },
  {
   "cell_type": "markdown",
   "id": "bc27b9c6",
   "metadata": {},
   "source": [
    "### 5. Code\n",
    "*Include the code you use for each step. Ensure the code is well-commented and organized for clarity. Tips: skimage (scikit-image) has functions for most of what you are going to do, so we highly recommend that you use this as much as possible.*"
   ]
  },
  {
   "cell_type": "markdown",
   "id": "215a1398",
   "metadata": {},
   "source": [
    "### 6. Results & Analysis\n",
    "*Present the results of your image analysis. Were you successful in distinguishing between the two chocolates? Offer an analysis of your results, discussing any challenges faced or areas for improvement.*"
   ]
  },
  {
   "cell_type": "markdown",
   "id": "19ab7382",
   "metadata": {},
   "source": [
    "### 7. Conclusion\n",
    "*Sum up your findings and suggest any future steps or further improvements that could be made.*"
   ]
  }
 ],
 "metadata": {
  "language_info": {
   "name": "python"
  }
 },
 "nbformat": 4,
 "nbformat_minor": 5
}
